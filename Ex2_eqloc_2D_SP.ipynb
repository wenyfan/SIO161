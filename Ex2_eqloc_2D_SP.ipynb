{
 "cells": [
  {
   "cell_type": "code",
   "execution_count": 116,
   "metadata": {
    "pycharm": {
     "name": "#%%\n"
    }
   },
   "outputs": [
    {
     "name": "stdout",
     "output_type": "stream",
     "text": [
      "hello brave explorers!\n"
     ]
    }
   ],
   "source": [
    "import numpy as np\n",
    "from matplotlib import pyplot as plt\n",
    "\n",
    "print('hello brave explorers!')\n",
    "\n",
    "X0 = 0\n",
    "Y0 = 0\n",
    "T0 = 20\n",
    "stnum = 15"
   ]
  },
  {
   "cell_type": "code",
   "execution_count": 117,
   "metadata": {
    "pycharm": {
     "name": "#%%\n"
    }
   },
   "outputs": [
    {
     "data": {
      "text/plain": "[<matplotlib.lines.Line2D at 0x7f99c9473850>]"
     },
     "execution_count": 117,
     "metadata": {},
     "output_type": "execute_result"
    },
    {
     "data": {
      "text/plain": "<Figure size 432x288 with 1 Axes>",
      "image/png": "[encoded data removed]"
     },
     "metadata": {
      "needs_background": "light"
     },
     "output_type": "display_data"
    }
   ],
   "source": [
    "Xs = X0 + 4*np.sqrt(2)*np.random.randn(stnum)\n",
    "Ys = Y0 + 4*np.sqrt(2)*np.random.randn(stnum)\n",
    "\n",
    "plt.plot(Xs, Ys, '^')"
   ]
  },
  {
   "cell_type": "code",
   "execution_count": 118,
   "metadata": {},
   "outputs": [
    {
     "data": {
      "text/plain": "[<matplotlib.lines.Line2D at 0x7f99e9ad9f70>]"
     },
     "execution_count": 118,
     "metadata": {},
     "output_type": "execute_result"
    },
    {
     "data": {
      "text/plain": "<Figure size 432x288 with 1 Axes>",
      "image/png": "[encoded data removed]"
     },
     "metadata": {
      "needs_background": "light"
     },
     "output_type": "display_data"
    }
   ],
   "source": [
    "Ds = np.sqrt(Xs**2+Ys**2)\n",
    "Vp = 6\n",
    "Vs = 6/np.sqrt(2)\n",
    "TsP = Ds/Vp + T0\n",
    "TsS = Ds/Vs + T0\n",
    "\n",
    "plt.plot(Ds, TsP, 'o')\n",
    "plt.plot(Ds, TsS, 's')"
   ]
  },
  {
   "cell_type": "code",
   "execution_count": 119,
   "metadata": {},
   "outputs": [
    {
     "name": "stdout",
     "output_type": "stream",
     "text": [
      "searching X:  -9.0 6.0\n",
      "searching Y:  -18.0 9.0\n"
     ]
    }
   ],
   "source": [
    "# dataset is Xs, Ys, Ts\n",
    "\n",
    "X1 = np.round(np.min(Xs))\n",
    "X2 = np.round(np.max(Xs))\n",
    "Y1 = np.round(np.min(Ys))\n",
    "Y2 = np.round(np.max(Ys))\n",
    "\n",
    "print('searching X: ', X1,X2)\n",
    "print('searching Y: ', Y1,Y2)\n"
   ]
  },
  {
   "cell_type": "code",
   "execution_count": 120,
   "outputs": [
    {
     "name": "stderr",
     "output_type": "stream",
     "text": [
      "/var/folders/47/tjvsnggd3kv1n9bh802nx1pw00c6xl/T/ipykernel_49612/611165044.py:6: DeprecationWarning: `np.int` is a deprecated alias for the builtin `int`. To silence this warning, use `int` by itself. Doing this will not modify any behavior and is safe. When replacing `np.int`, you may wish to use e.g. `np.int64` or `np.int32` to specify the precision. If you wish to review your current use, check the release note link for additional information.\n",
      "Deprecated in NumPy 1.20; for more details and guidance: https://numpy.org/devdocs/release/1.20.0-notes.html#deprecations\n",
      "  totalcombination = np.int(rX*rY)\n",
      "/var/folders/47/tjvsnggd3kv1n9bh802nx1pw00c6xl/T/ipykernel_49612/611165044.py:7: DeprecationWarning: `np.float` is a deprecated alias for the builtin `float`. To silence this warning, use `float` by itself. Doing this will not modify any behavior and is safe. If you specifically wanted the numpy scalar type, use `np.float64` here.\n",
      "Deprecated in NumPy 1.20; for more details and guidance: https://numpy.org/devdocs/release/1.20.0-notes.html#deprecations\n",
      "  Tmis = np.zeros((totalcombination,4),dtype = np.float)\n"
     ]
    },
    {
     "data": {
      "text/plain": "(array([129.,  95.,  41.,  24.,  21.,  18.,  18.,  16.,  14.,  13.,  10.,\n          4.,   2.]),\n array([3.14945398e-29, 1.43086789e+00, 2.86173578e+00, 4.29260367e+00,\n        5.72347155e+00, 7.15433944e+00, 8.58520733e+00, 1.00160752e+01,\n        1.14469431e+01, 1.28778110e+01, 1.43086789e+01, 1.57395468e+01,\n        1.71704147e+01, 1.86012825e+01]),\n <BarContainer object of 13 artists>)"
     },
     "execution_count": 120,
     "metadata": {},
     "output_type": "execute_result"
    },
    {
     "data": {
      "text/plain": "<Figure size 432x288 with 1 Axes>",
      "image/png": "[encoded data removed]"
     },
     "metadata": {
      "needs_background": "light"
     },
     "output_type": "display_data"
    }
   ],
   "source": [
    "dX = 1\n",
    "rX = X2-X1\n",
    "dY = 1\n",
    "rY = Y2-Y1\n",
    "\n",
    "totalcombination = np.int(rX*rY)\n",
    "Tmis = np.zeros((totalcombination,4),dtype = np.float)\n",
    "#print(Tmis)\n",
    "itry = 0\n",
    "for ix in np.arange(X1,X2,dX):\n",
    "    for iy in np.arange(Y1,Y2,dY):\n",
    "        itotalmis = 0\n",
    "        for istat in np.arange(0,stnum,1):\n",
    "            iXs = Xs[istat]\n",
    "            iYs = Ys[istat]\n",
    "            idTs = TsS[istat] - TsP[istat]\n",
    "            imis = np.sqrt((iXs-ix)**2+(iYs-iy)**2)*(1/Vs-1/Vp)  - idTs\n",
    "            itotalmis = itotalmis + imis**2\n",
    "\n",
    "        Tmis[itry,0] = ix\n",
    "        Tmis[itry,1] = iy\n",
    "        Tmis[itry,3] = itotalmis\n",
    "        itry = itry + 1\n",
    "\n",
    "plt.hist(Tmis[:,3], bins='auto')"
   ],
   "metadata": {
    "collapsed": false,
    "pycharm": {
     "name": "#%%\n"
    }
   }
  },
  {
   "cell_type": "code",
   "execution_count": 121,
   "outputs": [
    {
     "name": "stdout",
     "output_type": "stream",
     "text": [
      "261\n",
      "[0.00000000e+00 0.00000000e+00 0.00000000e+00 3.14945398e-29]\n"
     ]
    }
   ],
   "source": [
    "idx = np.argmin(Tmis[:,3])\n",
    "print(idx)\n",
    "print( Tmis[idx,:])"
   ],
   "metadata": {
    "collapsed": false,
    "pycharm": {
     "name": "#%%\n"
    }
   }
  },
  {
   "cell_type": "code",
   "execution_count": 122,
   "outputs": [
    {
     "name": "stdout",
     "output_type": "stream",
     "text": [
      "0.0 0.0\n",
      "searching T:  -10 20.0\n"
     ]
    },
    {
     "name": "stderr",
     "output_type": "stream",
     "text": [
      "/var/folders/47/tjvsnggd3kv1n9bh802nx1pw00c6xl/T/ipykernel_49612/2917326126.py:9: DeprecationWarning: `np.float` is a deprecated alias for the builtin `float`. To silence this warning, use `float` by itself. Doing this will not modify any behavior and is safe. If you specifically wanted the numpy scalar type, use `np.float64` here.\n",
      "Deprecated in NumPy 1.20; for more details and guidance: https://numpy.org/devdocs/release/1.20.0-notes.html#deprecations\n",
      "  Tmis2 = np.zeros((rT,2),dtype = np.float)\n"
     ]
    }
   ],
   "source": [
    "X0_est = Tmis[idx,0]\n",
    "Y0_est = Tmis[idx,1]\n",
    "print(X0_est,Y0_est)\n",
    "T1 = -10\n",
    "T2 = np.round(np.min(TsP))\n",
    "print('searching T: ', T1,T2)\n",
    "dT = 1\n",
    "rT = int(T2-T1)\n",
    "Tmis2 = np.zeros((rT,2),dtype = np.float)\n",
    "#print(Tmis)"
   ],
   "metadata": {
    "collapsed": false,
    "pycharm": {
     "name": "#%%\n"
    }
   }
  },
  {
   "cell_type": "code",
   "execution_count": 123,
   "outputs": [
    {
     "name": "stdout",
     "output_type": "stream",
     "text": [
      "29\n",
      "[19. 60.]\n"
     ]
    },
    {
     "data": {
      "text/plain": "<Figure size 432x288 with 1 Axes>",
      "image/png": "[encoded data removed]"
     },
     "metadata": {
      "needs_background": "light"
     },
     "output_type": "display_data"
    }
   ],
   "source": [
    "itry = 0\n",
    "\n",
    "for it in np.arange(T1,T2,dT):\n",
    "    itotalmis = 0\n",
    "    for istat in np.arange(0,stnum,1):\n",
    "         iXs = Xs[istat]\n",
    "         iYs = Ys[istat]\n",
    "         imis = np.sqrt((X0_est-iXs)**2+(Y0_est-iYs)**2)*(1/Vs+1/Vp)+2*it-TsS[istat]-TsP[istat]\n",
    "         # print(X0_est,Y0_est)\n",
    "         itotalmis = itotalmis + imis**2\n",
    "\n",
    "    Tmis2[itry,0] = it\n",
    "    Tmis2[itry,1] = itotalmis\n",
    "    itry = itry + 1\n",
    "\n",
    "plt.hist(Tmis2[:,1], bins='auto')\n",
    "idx = np.argmin(Tmis2[:,1])\n",
    "print(idx)\n",
    "print( Tmis2[idx,:])"
   ],
   "metadata": {
    "collapsed": false,
    "pycharm": {
     "name": "#%%\n"
    }
   }
  }
 ],
 "metadata": {
  "kernelspec": {
   "display_name": "Python 3 (ipykernel)",
   "language": "python",
   "name": "python3"
  },
  "language_info": {
   "codemirror_mode": {
    "name": "ipython",
    "version": 3
   },
   "file_extension": ".py",
   "mimetype": "text/x-python",
   "name": "python",
   "nbconvert_exporter": "python",
   "pygments_lexer": "ipython3",
   "version": "3.8.8"
  }
 },
 "nbformat": 4,
 "nbformat_minor": 1
}