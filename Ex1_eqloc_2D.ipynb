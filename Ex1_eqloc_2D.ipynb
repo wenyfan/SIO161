{
 "cells": [
  {
   "cell_type": "code",
   "execution_count": 141,
   "metadata": {
    "pycharm": {
     "name": "#%%\n"
    }
   },
   "outputs": [
    {
     "name": "stdout",
     "output_type": "stream",
     "text": [
      "hello brave explorers!\n"
     ]
    }
   ],
   "source": [
    "import numpy as np\n",
    "from matplotlib import pyplot as plt\n",
    "\n",
    "print('hello brave explorers!')\n",
    "\n",
    "X0 = 0\n",
    "Y0 = 0\n",
    "T0 = 5\n",
    "stnum = 5"
   ]
  },
  {
   "cell_type": "code",
   "execution_count": 142,
   "metadata": {
    "pycharm": {
     "name": "#%%\n"
    }
   },
   "outputs": [
    {
     "data": {
      "text/plain": "[<matplotlib.lines.Line2D at 0x7fa9386d9040>]"
     },
     "execution_count": 142,
     "metadata": {},
     "output_type": "execute_result"
    },
    {
     "data": {
      "text/plain": "<Figure size 432x288 with 1 Axes>",
      "image/png": "[encoded data removed]"
     },
     "metadata": {
      "needs_background": "light"
     },
     "output_type": "display_data"
    }
   ],
   "source": [
    "Xs = X0 + 4*np.sqrt(2)*np.random.randn(stnum)\n",
    "Ys = Y0 + 4*np.sqrt(2)*np.random.randn(stnum)\n",
    "\n",
    "plt.plot(Xs, Ys, '^')"
   ]
  },
  {
   "cell_type": "code",
   "execution_count": 143,
   "metadata": {},
   "outputs": [
    {
     "data": {
      "text/plain": "[<matplotlib.lines.Line2D at 0x7fa98abe52e0>]"
     },
     "execution_count": 143,
     "metadata": {},
     "output_type": "execute_result"
    },
    {
     "data": {
      "text/plain": "<Figure size 432x288 with 1 Axes>",
      "image/png": "[encoded data removed]"
     },
     "metadata": {
      "needs_background": "light"
     },
     "output_type": "display_data"
    }
   ],
   "source": [
    "Ds = np.sqrt(Xs**2+Ys**2)\n",
    "Vp = 6\n",
    "Ts = Ds/Vp + T0\n",
    "\n",
    "plt.plot(Ds, Ts, 'o')"
   ]
  },
  {
   "cell_type": "code",
   "execution_count": 144,
   "metadata": {},
   "outputs": [
    {
     "name": "stdout",
     "output_type": "stream",
     "text": [
      "searching X:  -8.0 4.0\n",
      "searching Y:  -5.0 1.0\n",
      "searching T:  -4.0 6.0\n"
     ]
    }
   ],
   "source": [
    "# dataset is Xs, Ys, Ts\n",
    "\n",
    "X1 = np.round(np.min(Xs))\n",
    "X2 = np.round(np.max(Xs))\n",
    "Y1 = np.round(np.min(Ys))\n",
    "Y2 = np.round(np.max(Ys))\n",
    "T1 = np.round(np.min(Ts))-10\n",
    "T2 = np.round(np.min(Ts))\n",
    "print('searching X: ', X1,X2)\n",
    "print('searching Y: ', Y1,Y2)\n",
    "print('searching T: ', T1,T2)"
   ]
  },
  {
   "cell_type": "code",
   "execution_count": 145,
   "outputs": [
    {
     "name": "stderr",
     "output_type": "stream",
     "text": [
      "/var/folders/47/tjvsnggd3kv1n9bh802nx1pw00c6xl/T/ipykernel_46977/3154923789.py:8: DeprecationWarning: `np.int` is a deprecated alias for the builtin `int`. To silence this warning, use `int` by itself. Doing this will not modify any behavior and is safe. When replacing `np.int`, you may wish to use e.g. `np.int64` or `np.int32` to specify the precision. If you wish to review your current use, check the release note link for additional information.\n",
      "Deprecated in NumPy 1.20; for more details and guidance: https://numpy.org/devdocs/release/1.20.0-notes.html#deprecations\n",
      "  totalcombination = np.int(rX*rY*rT)\n",
      "/var/folders/47/tjvsnggd3kv1n9bh802nx1pw00c6xl/T/ipykernel_46977/3154923789.py:9: DeprecationWarning: `np.float` is a deprecated alias for the builtin `float`. To silence this warning, use `float` by itself. Doing this will not modify any behavior and is safe. If you specifically wanted the numpy scalar type, use `np.float64` here.\n",
      "Deprecated in NumPy 1.20; for more details and guidance: https://numpy.org/devdocs/release/1.20.0-notes.html#deprecations\n",
      "  Tmis = np.zeros((totalcombination,4),dtype = np.float)\n"
     ]
    },
    {
     "data": {
      "text/plain": "(array([223.,  85.,  66.,  59.,  57.,  31.,  55.,  22.,  50.,  20.,  52.]),\n array([  0.        ,  40.76456104,  81.52912208, 122.29368312,\n        163.05824416, 203.82280519, 244.58736623, 285.35192727,\n        326.11648831, 366.88104935, 407.64561039, 448.41017143]),\n <BarContainer object of 11 artists>)"
     },
     "execution_count": 145,
     "metadata": {},
     "output_type": "execute_result"
    },
    {
     "data": {
      "text/plain": "<Figure size 432x288 with 1 Axes>",
      "image/png": "[encoded data removed]"
     },
     "metadata": {
      "needs_background": "light"
     },
     "output_type": "display_data"
    }
   ],
   "source": [
    "dX = 1\n",
    "rX = X2-X1\n",
    "dY = 1\n",
    "rY = Y2-Y1\n",
    "dT = 1\n",
    "rT = T2-T1\n",
    "\n",
    "totalcombination = np.int(rX*rY*rT)\n",
    "Tmis = np.zeros((totalcombination,4),dtype = np.float)\n",
    "#print(Tmis)\n",
    "itry = 0\n",
    "for ix in np.arange(X1,X2,dX):\n",
    "    for iy in np.arange(Y1,Y2,dY):\n",
    "        for it in np.arange(T1,T2,dT):\n",
    "            itotalmis = 0\n",
    "            for istat in np.arange(0,stnum,1):\n",
    "                iXs = Xs[istat]\n",
    "                iYs = Ys[istat]\n",
    "                iTs = Ts[istat]\n",
    "                imis = np.sqrt((iXs-ix)**2+(iYs-iy)**2)/Vp + it - iTs\n",
    "                itotalmis = itotalmis + imis**2\n",
    "\n",
    "            Tmis[itry,0] = ix\n",
    "            Tmis[itry,1] = iy\n",
    "            Tmis[itry,2] = it\n",
    "            Tmis[itry,3] = itotalmis\n",
    "            itry = itry + 1\n",
    "\n",
    "plt.hist(Tmis[:,3], bins='auto')"
   ],
   "metadata": {
    "collapsed": false,
    "pycharm": {
     "name": "#%%\n"
    }
   }
  },
  {
   "cell_type": "code",
   "execution_count": 146,
   "outputs": [
    {
     "name": "stdout",
     "output_type": "stream",
     "text": [
      "539\n",
      "[0. 0. 5. 0.]\n"
     ]
    }
   ],
   "source": [
    "idx = np.argmin(Tmis[:,3])\n",
    "print(idx)\n",
    "print( Tmis[idx,:])"
   ],
   "metadata": {
    "collapsed": false,
    "pycharm": {
     "name": "#%%\n"
    }
   }
  }
 ],
 "metadata": {
  "kernelspec": {
   "display_name": "Python 3 (ipykernel)",
   "language": "python",
   "name": "python3"
  },
  "language_info": {
   "codemirror_mode": {
    "name": "ipython",
    "version": 3
   },
   "file_extension": ".py",
   "mimetype": "text/x-python",
   "name": "python",
   "nbconvert_exporter": "python",
   "pygments_lexer": "ipython3",
   "version": "3.8.8"
  }
 },
 "nbformat": 4,
 "nbformat_minor": 1
}